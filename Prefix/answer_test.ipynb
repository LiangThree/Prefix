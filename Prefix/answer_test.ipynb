{
 "cells": [
  {
   "cell_type": "code",
   "execution_count": null,
   "metadata": {},
   "outputs": [],
   "source": [
    "import sys\n",
    "import os\n",
    "from template import *\n",
    "os.environ[\"CUDA_VISIBLE_DEVICES\"] = \"2\"\n",
    "\n",
    "from datasets import load_dataset\n",
    "from tqdm import tqdm \n",
    "from transformers import AutoModelForCausalLM,AutoTokenizer\n",
    "from peft import AutoPeftModelForCausalLM\n",
    "import torch\n",
    "import json\n",
    "from transformers import GenerationConfig,AutoConfig\n",
    "from answer import ActivationLLama\n",
    "from datasets import load_dataset, Dataset\n",
    "from typing import Optional, Union\n",
    "from peft import PeftModel\n",
    "\n",
    "\n",
    "model_path = \"Meta-Llama-3-8B-Instruct\"\n",
    "template_index = 1\n",
    "peft = \"RED\" \n",
    "is_train_return = False \n",
    "no_repeat_ngram_size = 5 \n",
    "peft_path = \"/mnt/userdata/liangsirui/MyProject/RED/Results/Llama3/9000_attn_o_2e-5/template1/delta_vector.pth\" \n",
    "repetition_penalty = 1.1 \n",
    "data_num = 500 \n",
    "\n",
    "if \"attn_o\" in peft_path:\n",
    "    op_position = \"attn_o\"\n",
    "elif \"ffn\" in peft_path:\n",
    "    op_position = \"ffn\"\n",
    "\n",
    "path = \"/mnt/usercache/huggingface/\"\n",
    "if not os.path.exists(path):\n",
    "    path = \"/mnt/publiccache/huggingface/\"\n",
    "model_path = path + model_path\n",
    "lora_path = \"/mnt/userdata/liangsirui/MyProject/RED/Results/Llama3/9000_lora/template1\"\n",
    "\n",
    "model = AutoModelForCausalLM.from_pretrained(model_path,torch_dtype=torch.bfloat16,device_map=\"auto\")\n",
    "\n",
    "# lora\n",
    "# model = PeftModel.from_pretrained(model, lora_path)\n",
    "\n",
    "# RED\n",
    "model = ActivationLLama(model, op_position=op_position)\n",
    "model.load_model(peft_path)\n",
    "\n",
    "tokenizer = AutoTokenizer.from_pretrained(model_path, padding_side=\"left\", torch_dtype=torch.bfloat16)\n",
    "tokenizer.padding_side = \"left\"\n",
    "tokenizer.pad_token_id = 0 if tokenizer.pad_token_id is None else tokenizer.pad_token_id"
   ]
  },
  {
   "cell_type": "code",
   "execution_count": null,
   "metadata": {},
   "outputs": [],
   "source": [
    "question = \"It takes 20 minutes for the oil to heat up to 300 degrees.  It then takes 40% longer for the oil to heat up to the desired temperature of 400 degrees.  After warming the oil it takes 5 minutes less time to cook than it took to warm up the oil.  How much time passes from starting the oil to having cooked chicken?\"\n",
    "\n",
    "# lora_step = \"Find the number of people who think horse #2 will win the big race.\\n20% of 50 people = 0.2 x 50 = 10 people\\n\\n\"\n",
    "# red_step = \"We need to find out how many people think horse #1 will win. We know that 20% of 100 people think horse #3 will win. So, we can multiply 0.2 by 100 and then divide by 4 to get our answer.\\n0.2 * 100 = 20\\n20 / 4 = 5\\nSo, 5 people think horse #6 will win.\"\n",
    "\n",
    "# question = f\"{question} Please select the correct next step. A: {lora_step} B: {red_step} The correct step is: \"\n",
    "# question = f\"{question} Please select the correct next step. A: {red_step} B: {lora_step} The correct step is: \"\n",
    "\n",
    "prompt = prompt_template[1] \n",
    "question = prompt%question\n",
    "\n",
    "question = question + \"Step1, we should calculate the \"\n",
    "\n",
    "indexed_tokens = tokenizer.encode(question)\n",
    "tokens = [tokenizer.decode(x) for x in indexed_tokens]\n",
    "tokens_tensor = torch.tensor([indexed_tokens]).to(\"cuda\")\n",
    "\n",
    "with torch.no_grad():\n",
    "    outputs = model(tokens_tensor)\n",
    "    predictions = outputs[0]\n",
    "\n",
    "predicted_top10 = torch.argsort(outputs[0][0][-1], descending=True)[:10]\n",
    "predicted_text = [tokenizer.decode(x) for x in predicted_top10]\n",
    "print(predicted_text)"
   ]
  },
  {
   "cell_type": "code",
   "execution_count": null,
   "metadata": {},
   "outputs": [],
   "source": [
    "# prompt = prompt_template[1] \n",
    "# question = prompt%question \n",
    "\n",
    "generation_config = GenerationConfig(\n",
    "    do_sample=False,\n",
    "    no_repeat_ngram_size=5, \n",
    "    repetition_penalty=1.1,\n",
    "    pad_token_id=tokenizer.pad_token_id,\n",
    "    eos_token_id=tokenizer.eos_token_id,\n",
    "    bos_token_id=tokenizer.bos_token_id,\n",
    ")\n",
    "\n",
    "prompt_ids = tokenizer(question, return_tensors='pt').to(model.base_model.device).input_ids\n",
    "output_good = model.generate(input_ids=prompt_ids, max_new_tokens=300, generation_config=generation_config)\n",
    "\n",
    "completion_good = tokenizer.decode(output_good[0], skip_special_tokens=True)\n",
    "print(completion_good)"
   ]
  },
  {
   "cell_type": "code",
   "execution_count": null,
   "metadata": {},
   "outputs": [],
   "source": [
    "question=\"There are three trees in Eddy's backyard. The shortest tree has a height of 6 feet, and the second tree has a height of 5 feet less than the shortest tree. The height of the tallest tree is twice the height of the two trees combined. How tall is the tallest tree?\"\n",
    "\n",
    "prompt = prompt_template[1]\n",
    "question = prompt%question + \"To solve this problem, we need to first find the height of the second tree. Second Tree = Shortest Tree\"\n",
    "\n",
    "prompt_ids = tokenizer(question, return_tensors='pt').to(model.base_model.device).input_ids\n",
    "output = model(prompt_ids)\n",
    "\n",
    "predicted_top10 = torch.argsort(output[0][0][-1], descending=True)[:50]\n",
    "predicted_text = [tokenizer.decode(x) for x in predicted_top10]\n",
    "print(predicted_text)\n",
    "\n",
    "a_token_id = tokenizer.encode('+', add_special_tokens=False)[0]\n",
    "b_token_id = tokenizer.encode('-', add_special_tokens=False)[0]\n",
    "# c_token_id = tokenizer.encode('C', add_special_tokens=False)[0]\n",
    "# d_token_id = tokenizer.encode('D', add_special_tokens=False)[0]\n",
    "\n",
    "logits = output.logits[0, -1, :]  # shape: (vocab_size,)\n",
    "import torch.nn.functional as F\n",
    "\n",
    "probs = F.softmax(logits, dim=0)\n",
    "a_prob = probs[a_token_id].item()\n",
    "b_prob = probs[b_token_id].item()\n",
    "# c_prob = probs[c_token_id].item()\n",
    "# d_prob = probs[d_token_id].item()\n",
    "\n",
    "print(f\"Token '+' 的概率值: {a_prob})\")\n",
    "print(f\"Token '-' 的概率值: {b_prob})\")\n",
    "# print(f\"Token 'C' 的概率值: {c_prob})\")\n",
    "# print(f\"Token 'D' 的概率值: {d_prob})\")"
   ]
  },
  {
   "cell_type": "code",
   "execution_count": 7,
   "metadata": {},
   "outputs": [],
   "source": [
    "import json\n",
    "def read_json_file(file_path):\n",
    "    try:\n",
    "        # 以只读模式打开文件，使用 UTF-8 编码\n",
    "        with open(file_path, 'r', encoding='utf-8') as file:\n",
    "            # 加载 JSON 数据\n",
    "            data = json.load(file)\n",
    "            return data\n",
    "    except FileNotFoundError:\n",
    "        print(f\"文件 {file_path} 未找到。\")\n",
    "    except json.JSONDecodeError:\n",
    "        print(f\"文件 {file_path} 不是有效的 JSON 格式。\")\n",
    "\n",
    "\n",
    "def save_list_to_json(data_list, file_path):\n",
    "    with open(file_path, \"w\", encoding=\"utf-8\") as f:\n",
    "        json.dump(data_list, f, ensure_ascii=False, indent=4)  # 使用 indent 格式化 JSON\n",
    "    print(f\"数据已成功存储到 {file_path}\")\n",
    "    \n",
    "# file_path = \"/mnt/userdata/liangsirui/MyProject/pyreft/dataset/interference/interference.json\"\n",
    "# interference = read_json_file(file_path) \n"
   ]
  },
  {
   "cell_type": "code",
   "execution_count": 4,
   "metadata": {},
   "outputs": [],
   "source": [
    "data0 = \"/mnt/userdata/liangsirui/MyProject/Prefix/Results/Prefix_Output/Llama3/9000_math10k_all_8_2e-4/epoch3/gsm8k_eval.json\"\n",
    "data1 = \"/mnt/userdata/liangsirui/MyProject/Prefix/Results/Prefix_Output/Llama3/9000_math10k_all_8_2e-4/epoch3/gsm8k_eval_reft.json\"\n",
    "\n",
    "data0 = read_json_file(data0) \n",
    "data1 = read_json_file(data1) "
   ]
  },
  {
   "cell_type": "code",
   "execution_count": 11,
   "metadata": {},
   "outputs": [
    {
     "name": "stdout",
     "output_type": "stream",
     "text": [
      "数据已成功存储到 /mnt/userdata/liangsirui/MyProject/Prefix/question_example.json\n"
     ]
    }
   ],
   "source": [
    "question_count0 = 0\n",
    "question_count1 = 0\n",
    "question_dict = []\n",
    "\n",
    "for key in data0.keys():\n",
    "    if \"eval\" not in data0[key].keys():\n",
    "        break\n",
    "    if data0[key][\"eval\"] == True and data1[key][\"eval\"] == False:\n",
    "        question_count0 += 1\n",
    "        current_question = {}\n",
    "        current_question['Question'] = data0[key]['Question']\n",
    "        current_question['Output'] = data0[key]['Output']\n",
    "        current_question['Answer'] = data0[key]['Answer']\n",
    "        current_question['data0'] = data0[key]['attn_o']\n",
    "        current_question['data0'] = current_question['data0'].replace('!','')\n",
    "        current_question['data1'] = data1[key]['attn_o'].replace('!','')\n",
    "        question_dict.append(current_question)\n",
    "\n",
    "question_dict = question_dict\n",
    "save_list_to_json(question_dict, \"/mnt/userdata/liangsirui/MyProject/Prefix/question_example.json\")"
   ]
  },
  {
   "cell_type": "code",
   "execution_count": null,
   "metadata": {},
   "outputs": [],
   "source": [
    "file_path = \"/mnt/userdata/liangsirui/MyProject/Prefix/Base_Results/Llama3/prm800k/prm800k_1.json\"\n",
    "interference = read_json_file(file_path)"
   ]
  },
  {
   "cell_type": "code",
   "execution_count": null,
   "metadata": {},
   "outputs": [],
   "source": [
    "remove_list = []\n",
    "for key in interference.keys():\n",
    "    if interference[key]['Answer'] == None:\n",
    "        remove_list.append(key)\n",
    "\n",
    "for key in remove_list:\n",
    "    interference.pop(key)\n",
    "\n",
    "save_list_to_json(interference, file_path)    "
   ]
  },
  {
   "cell_type": "code",
   "execution_count": 5,
   "metadata": {},
   "outputs": [],
   "source": [
    "def eval_one_data(model_answer: str, answer: str):\n",
    "    \n",
    "    if answer in model_answer:\n",
    "        return True\n",
    "    else:\n",
    "        \n",
    "        try:\n",
    "            int_answer = float(answer)\n",
    "\n",
    "            if int_answer.is_integer():\n",
    "                int_answer = int(int_answer)\n",
    "                formatted_answer = f\"{int_answer:,}\" if abs(int_answer) >= 1000 else str(int_answer)\n",
    "            \n",
    "            if answer in model_answer or str(int_answer) in model_answer or formatted_answer in model_answer:\n",
    "                return True\n",
    "            else:\n",
    "                return False\n",
    "            \n",
    "        except:\n",
    "            return False"
   ]
  },
  {
   "cell_type": "code",
   "execution_count": null,
   "metadata": {},
   "outputs": [],
   "source": []
  },
  {
   "cell_type": "code",
   "execution_count": 14,
   "metadata": {},
   "outputs": [
    {
     "name": "stderr",
     "output_type": "stream",
     "text": [
      "100%|██████████| 9991/9991 [00:00<00:00, 66535.87it/s]\n"
     ]
    },
    {
     "name": "stdout",
     "output_type": "stream",
     "text": [
      "数据已成功存储到 /mnt/userdata/liangsirui/MyProject/Prefix/Base_Results/Llama3/prm800k/prm800k_8.json\n"
     ]
    }
   ],
   "source": [
    "# eval base模型生成的答案\n",
    "\n",
    "data = read_json_file('/mnt/userdata/liangsirui/MyProject/Prefix/Base_Results/Llama3/prm800k/prm800k_8.json')\n",
    "\n",
    "from tqdm import *\n",
    "for key in tqdm(data.keys()):\n",
    "    if eval_one_data(data[key]['base'], data[key]['Answer']):\n",
    "        data[key]['eval'] = True\n",
    "    else:\n",
    "        data[key]['eval'] = False\n",
    "\n",
    "save_list_to_json(data, '/mnt/userdata/liangsirui/MyProject/Prefix/Base_Results/Llama3/prm800k/prm800k_8.json')\n"
   ]
  },
  {
   "cell_type": "code",
   "execution_count": 15,
   "metadata": {},
   "outputs": [
    {
     "name": "stderr",
     "output_type": "stream",
     "text": [
      "100%|██████████| 9991/9991 [00:00<00:00, 1691298.03it/s]\n"
     ]
    },
    {
     "name": "stdout",
     "output_type": "stream",
     "text": [
      "count: 6450\n",
      "数据已成功存储到 /mnt/userdata/liangsirui/MyProject/Prefix/dataset/prm800k/clean_train.json\n"
     ]
    }
   ],
   "source": [
    "prm800k = read_json_file('/mnt/userdata/liangsirui/MyProject/Prefix/Base_Results/Llama3/prm800k/prm800k_8.json')\n",
    "\n",
    "train_dict = []\n",
    "\n",
    "from tqdm import *\n",
    "for key in tqdm(prm800k.keys()):\n",
    "    if prm800k[key]['eval'] == True:\n",
    "        train_dict.append(prm800k[key])\n",
    "\n",
    "print('count:', len(train_dict))\n",
    "save_list_to_json(train_dict, '/mnt/userdata/liangsirui/MyProject/Prefix/dataset/prm800k/clean_train.json')"
   ]
  }
 ],
 "metadata": {
  "kernelspec": {
   "display_name": "explain",
   "language": "python",
   "name": "python3"
  },
  "language_info": {
   "codemirror_mode": {
    "name": "ipython",
    "version": 3
   },
   "file_extension": ".py",
   "mimetype": "text/x-python",
   "name": "python",
   "nbconvert_exporter": "python",
   "pygments_lexer": "ipython3",
   "version": "3.10.4"
  }
 },
 "nbformat": 4,
 "nbformat_minor": 2
}
