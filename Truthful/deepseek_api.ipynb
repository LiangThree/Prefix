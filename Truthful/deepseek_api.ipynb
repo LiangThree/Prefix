{
 "cells": [
  {
   "cell_type": "code",
   "execution_count": 10,
   "id": "a82d016d",
   "metadata": {},
   "outputs": [],
   "source": [
    "\"\"\" DeepSeek Reasoner API \"\"\"\n",
    "# 1) 更改输入task路径 2) 更改输出data路径 3) 选择模型3.5/4\n",
    "import random\n",
    "import json, time, random\n",
    "from openai import OpenAI\n",
    "\n",
    "client = OpenAI(api_key=\"sk-8826f002883c4101b058aa9332b00977\", base_url=\"https://api.deepseek.com\")\n",
    "\n",
    "input_prompt = \"\"\"\n",
    "For the following question, provide the key values in the question, Replace the numbers with [NUM], and give the corresponding value.  Please note that only the variables given in the question need to be provided, and there is no need to answer the variables in the reasoning process. Answer me in json!\n",
    "\n",
    "For example:\n",
    "Mr Boarden is remodeling his bathroom. For every square foot, he needs 24 mosaic tiles. How many mosaic tiles would Mr Boarden need to cover two thirds of his 36 sq ft bathroom?\n",
    "\n",
    "{\n",
    "    \"Mr Boarden needs [NUM] mosaic tiles every square foot\": \"24\",\n",
    "    \"Mr Boarden's bathroom is [NUM] sq\": \"36\"\n",
    "}\n",
    "\n",
    "Question:\n",
    "The farm has 30 cows and the zoo has 20 sheep.  The zoo has twice as many cows as the farm does.  The farm has half as many sheep as the zoo does.  How many animals do the farm and zoo have combined?\n",
    "\n",
    "\"\"\"\n",
    "\n",
    "response = client.chat.completions.create(\n",
    "    model=\"deepseek-chat\",\n",
    "    messages=[\n",
    "        {\"role\": \"user\", \"content\": input_prompt},\n",
    "    ],\n",
    "    response_format={\n",
    "        'type': 'json_object'\n",
    "    },\n",
    "    stream=False,\n",
    "    temperature=0.5,\n",
    ")\n",
    "output = response.choices[0].message.content.strip()\n"
   ]
  },
  {
   "cell_type": "code",
   "execution_count": 11,
   "id": "6bee6a90",
   "metadata": {},
   "outputs": [
    {
     "data": {
      "text/plain": [
       "'{\\n    \"The farm has [NUM] cows\": \"30\",\\n    \"The zoo has [NUM] sheep\": \"20\",\\n    \"The zoo has twice as many cows as the farm does\": \"2\",\\n    \"The farm has half as many sheep as the zoo does\": \"0.5\"\\n}'"
      ]
     },
     "execution_count": 11,
     "metadata": {},
     "output_type": "execute_result"
    }
   ],
   "source": [
    "output"
   ]
  },
  {
   "cell_type": "code",
   "execution_count": 12,
   "id": "be680e92",
   "metadata": {},
   "outputs": [],
   "source": [
    "output = json.loads(output)"
   ]
  },
  {
   "cell_type": "code",
   "execution_count": 13,
   "id": "ebd3196c",
   "metadata": {},
   "outputs": [
    {
     "data": {
      "text/plain": [
       "{'The farm has [NUM] cows': '30',\n",
       " 'The zoo has [NUM] sheep': '20',\n",
       " 'The zoo has twice as many cows as the farm does': '2',\n",
       " 'The farm has half as many sheep as the zoo does': '0.5'}"
      ]
     },
     "execution_count": 13,
     "metadata": {},
     "output_type": "execute_result"
    }
   ],
   "source": [
    "output"
   ]
  }
 ],
 "metadata": {
  "kernelspec": {
   "display_name": "prefix",
   "language": "python",
   "name": "python3"
  },
  "language_info": {
   "codemirror_mode": {
    "name": "ipython",
    "version": 3
   },
   "file_extension": ".py",
   "mimetype": "text/x-python",
   "name": "python",
   "nbconvert_exporter": "python",
   "pygments_lexer": "ipython3",
   "version": "3.10.4"
  }
 },
 "nbformat": 4,
 "nbformat_minor": 5
}
